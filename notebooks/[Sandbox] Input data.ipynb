{
 "cells": [
  {
   "cell_type": "code",
   "execution_count": 149,
   "id": "1aca9834",
   "metadata": {},
   "outputs": [],
   "source": [
    "import numpy as np\n",
    "import pyroomacoustics as pra\n",
    "from tqdm import tqdm\n",
    "from pathlib import Path\n",
    "import matplotlib.pyplot as plt\n",
    "import librosa as lb\n",
    "import torch\n",
    "import torch.nn as nn\n",
    "import torch.nn.functional as F\n",
    "import pytorch_lightning as pl"
   ]
  },
  {
   "cell_type": "markdown",
   "id": "f6d0166f",
   "metadata": {},
   "source": [
    "# Data Generation"
   ]
  },
  {
   "cell_type": "code",
   "execution_count": 82,
   "id": "0aed830d",
   "metadata": {},
   "outputs": [
    {
     "name": "stdout",
     "output_type": "stream",
     "text": [
      "[[2.74 2.7  2.66 2.72 2.68]\n",
      " [2.4  2.4  2.4  2.4  2.4 ]\n",
      " [1.82 1.82 1.82 1.78 1.78]]\n",
      "(3, 5)\n"
     ]
    }
   ],
   "source": [
    "# constants / config\n",
    "fs = 16000 \n",
    "nfft = 1024\n",
    "n_frames = 30\n",
    "max_order = 10\n",
    "absorption = 0.9\n",
    "\n",
    "azimuths_deg = np.arange(start=0, stop=359, step=5)\n",
    "elevations_deg = np.array([-15,0,15])\n",
    "distances = [1.5]\n",
    "\n",
    "grid_coords = np.stack(np.meshgrid(distances, azimuths_deg, elevations_deg, indexing='ij'), axis=-1)\n",
    "grid_coords = grid_coords.reshape(-1,3)\n",
    "N, D = grid_coords.shape\n",
    "\n",
    "\n",
    "mic_center = np.c_[[2.7,2.4,1.8]]\n",
    "mic_locs = mic_center + np.c_[[ 0.04,  0.00, 0.02],\n",
    "                              [ 0.00,  0.00, 0.02],\n",
    "                              [-0.04,  0.00, 0.02],\n",
    "                              [ 0.02,  0.00,-0.02],\n",
    "                              [-0.02,  0.00,-0.02],\n",
    "]\n",
    "print(mic_locs)\n",
    "print(mic_locs.shape)"
   ]
  },
  {
   "cell_type": "code",
   "execution_count": 112,
   "id": "2992a8d5",
   "metadata": {},
   "outputs": [
    {
     "name": "stderr",
     "output_type": "stream",
     "text": [
      "100%|███████████████████████████████████████████████████████████████████████| 216/216 [00:05<00:00, 43.04it/s]\n"
     ]
    }
   ],
   "source": [
    "# room simulation\n",
    "data = []\n",
    "L = 0\n",
    "for n in tqdm(range(N)):\n",
    "    \n",
    "    r = grid_coords[:,0]\n",
    "    az = np.deg2rad(grid_coords[:,1])\n",
    "    el = np.deg2rad(grid_coords[:,2])\n",
    "    \n",
    "    src_loc = mic_center[:,0] + np.c_[r*np.cos(az)*np.cos(el), r*np.sin(az)*np.cos(el), r*np.sin(el)][0]\n",
    "    room_dim = [6, 5, 3] # meters\n",
    "    \n",
    "    room = pra.ShoeBox(room_dim, fs=fs, max_order=max_order, absorption=absorption)\n",
    "    room.add_source(src_loc)\n",
    "    room.add_microphone_array(mic_locs)\n",
    "\n",
    "    I = mic_locs.shape[-1]\n",
    "    J = 1\n",
    "\n",
    "    room.compute_rir()\n",
    "    \n",
    "    l = max([max(room.rir[i][j].shape) for i in range(I) for j in range(J)])\n",
    "    if l > L:\n",
    "        L = l\n",
    "\n",
    "    sample = {\n",
    "        'rirs' : room.rir,\n",
    "        'distance': r,\n",
    "        'azimuth' : az,\n",
    "        'elevation': el,\n",
    "    }\n",
    "    \n",
    "    data.append(sample)\n",
    "            "
   ]
  },
  {
   "cell_type": "code",
   "execution_count": 113,
   "id": "d798d172",
   "metadata": {},
   "outputs": [
    {
     "data": {
      "text/plain": [
       "<matplotlib.collections.PathCollection at 0x7f1195dd5f70>"
      ]
     },
     "execution_count": 113,
     "metadata": {},
     "output_type": "execute_result"
    },
    {
     "data": {
      "image/png": "[encoded data removed]",
      "text/plain": [
       "<Figure size 640x480 with 1 Axes>"
      ]
     },
     "metadata": {},
     "output_type": "display_data"
    }
   ],
   "source": [
    "plt.scatter(mic_locs[0,:], mic_locs[2,:])"
   ]
  },
  {
   "cell_type": "code",
   "execution_count": 135,
   "id": "e18d1b0f",
   "metadata": {},
   "outputs": [
    {
     "name": "stderr",
     "output_type": "stream",
     "text": [
      "100%|██████████████████████████████████████████████████████████████████████| 216/216 [00:00<00:00, 706.35it/s]\n"
     ]
    }
   ],
   "source": [
    "F = 513\n",
    "nfft = (F-1)*2\n",
    "nframes = 3\n",
    "\n",
    "rirs = np.zeros((N,I,J,L))\n",
    "rirs_dft = np.zeros((N,I,J,F,2))\n",
    "for n in tqdm(range(N)):\n",
    "    for i in range(I):\n",
    "        for j in range(J):\n",
    "            rir = data[n]['rirs'][i][j].squeeze()\n",
    "            l = len(rir)\n",
    "            rirs[n,i,j,:l] = rir[:l]\n",
    "            \n",
    "#             plt.plot(rir)\n",
    "#             plt.show()\n",
    "            \n",
    "            RIR = lb.stft(rir, n_fft=1024)\n",
    "            \n",
    "#             plt.imshow(np.abs(RIR), aspect='auto')\n",
    "#             plt.show()\n",
    "            \n",
    "            RIR = RIR[:,:3].mean(-1)\n",
    "            rirs_dft[n,i,j,:,0] = RIR.real\n",
    "            rirs_dft[n,i,j,:,1] = RIR.imag"
   ]
  },
  {
   "cell_type": "code",
   "execution_count": 147,
   "id": "9a85933b",
   "metadata": {},
   "outputs": [
    {
     "name": "stdout",
     "output_type": "stream",
     "text": [
      "(216, 5, 1, 2950)\n",
      "(216, 5, 1, 513, 2)\n",
      "-0.4584212924297835 0.5152201980992146\n",
      "-0.4730528204776923 0.43865715632671526\n",
      "(216, 3)\n"
     ]
    }
   ],
   "source": [
    "print(rirs.shape)\n",
    "print(rirs_dft.shape)\n",
    "print(np.min(rirs_dft[...,0]), np.max(rirs_dft[...,0]))\n",
    "print(np.min(rirs_dft[...,1]), np.max(rirs_dft[...,1]))\n",
    "\n",
    "print(grid_coords.shape)"
   ]
  },
  {
   "cell_type": "markdown",
   "id": "e13d94ac",
   "metadata": {},
   "source": [
    "# coord-based MLP"
   ]
  },
  {
   "cell_type": "code",
   "execution_count": 162,
   "id": "04443750",
   "metadata": {},
   "outputs": [],
   "source": [
    "train_data = (grid_coords, rirs_dft)\n",
    "val_data = (grid_coords, rirs_dft)\n",
    "test_data = (grid_coords, rirs_dft)\n",
    "dm = DataModule(train_data, val_data, test_data)"
   ]
  },
  {
   "cell_type": "code",
   "execution_count": 163,
   "id": "4791a12c",
   "metadata": {},
   "outputs": [
    {
     "name": "stdout",
     "output_type": "stream",
     "text": [
      "(216, 3)\n",
      "(216, 5, 1, 513, 2)\n",
      "(216, 3)\n",
      "(216, 5, 1, 513, 2)\n",
      "(216, 3)\n",
      "(216, 5, 1, 513, 2)\n"
     ]
    }
   ],
   "source": [
    "dm.prepare_data()"
   ]
  },
  {
   "cell_type": "code",
   "execution_count": 165,
   "id": "bcd6bd48",
   "metadata": {},
   "outputs": [],
   "source": [
    "class Fourier(nn.Module):\n",
    "    def __init__(self, nmb=256, scale=10):\n",
    "        super(Fourier, self).__init__()\n",
    "        self.b = nn.Parameter(torch.randn(2, nmb)*scale)\n",
    "        self.pi = 3.14159265359\n",
    "\n",
    "    def forward(self, x):\n",
    "        x = torch.matmul(2*self.pi*x, self.b.to(x.device))\n",
    "        return torch.cat([torch.sin(x), torch.cos(x)], -1)\n",
    "\n",
    "def LinearTanh(n_in, n_out):\n",
    "    # do not work with ModuleList here either.\n",
    "    block = nn.Sequential(\n",
    "      nn.Linear(n_in, n_out),\n",
    "      nn.Tanh()\n",
    "    )\n",
    "    return block\n",
    "    \n",
    "class RFFNet(nn.Module):\n",
    "    def __init__(self, layer_dimension, f_nfeatures, f_scale, device, lam_pde=1e-4):\n",
    "        super().__init__()\n",
    "        \n",
    "        layers = []\n",
    "        num_layers = len(layer_dimension)\n",
    "        \n",
    "        blocks = []\n",
    "        for l in range(num_layers-2):\n",
    "            blocks.append(LinearTanh(layer_dimension[l], layer_dimension[l+1]))\n",
    "            \n",
    "        blocks.append(nn.Linear(layer_dimension[-2], layer_dimension[-1]))\n",
    "        \n",
    "        self.rff = Fourier(f_nfeatures, f_scale)\n",
    "        self.mlp = nn.Sequential(*blocks)\n",
    "    \n",
    "    def forward(self, x):\n",
    "        x = self.rff(x)\n",
    "        x = self.mlp(x)\n",
    "        x = torch.tanh(x)\n",
    "        return x"
   ]
  },
  {
   "cell_type": "code",
   "execution_count": 161,
   "id": "a51963e3",
   "metadata": {},
   "outputs": [
    {
     "name": "stderr",
     "output_type": "stream",
     "text": [
      "/media/diego/SSD_2/diego/Code/SteerAndInterp/venv/lib/python3.8/site-packages/pytorch_lightning/trainer/connectors/accelerator_connector.py:446: LightningDeprecationWarning: Setting `Trainer(gpus=1)` is deprecated in v1.7 and will be removed in v2.0. Please use `Trainer(accelerator='gpu', devices=1)` instead.\n",
      "  rank_zero_deprecation(\n",
      "GPU available: True (cuda), used: True\n",
      "TPU available: False, using: 0 TPU cores\n",
      "IPU available: False, using: 0 IPUs\n",
      "HPU available: False, using: 0 HPUs\n"
     ]
    },
    {
     "ename": "MisconfigurationException",
     "evalue": "No `training_step()` method defined. Lightning `Trainer` expects as minimum a `training_step()`, `train_dataloader()` and `configure_optimizers()` to be defined.",
     "output_type": "error",
     "traceback": [
      "\u001b[0;31m---------------------------------------------------------------------------\u001b[0m",
      "\u001b[0;31mMisconfigurationException\u001b[0m                 Traceback (most recent call last)",
      "Cell \u001b[0;32mIn [161], line 18\u001b[0m\n\u001b[1;32m     12\u001b[0m early_stop_callback \u001b[38;5;241m=\u001b[39m EarlyStopping(monitor\u001b[38;5;241m=\u001b[39m\u001b[38;5;124m'\u001b[39m\u001b[38;5;124mvalid_loss\u001b[39m\u001b[38;5;124m'\u001b[39m)\n\u001b[1;32m     13\u001b[0m trainer \u001b[38;5;241m=\u001b[39m pl\u001b[38;5;241m.\u001b[39mTrainer(gpus\u001b[38;5;241m=\u001b[39m\u001b[38;5;241m1\u001b[39m, \n\u001b[1;32m     14\u001b[0m                      check_val_every_n_epoch\u001b[38;5;241m=\u001b[39m\u001b[38;5;241m200\u001b[39m, \n\u001b[1;32m     15\u001b[0m                      max_epochs\u001b[38;5;241m=\u001b[39mmax_iters, \n\u001b[1;32m     16\u001b[0m                      callbacks\u001b[38;5;241m=\u001b[39m[early_stop_callback])\n\u001b[0;32m---> 18\u001b[0m \u001b[43mtrainer\u001b[49m\u001b[38;5;241;43m.\u001b[39;49m\u001b[43mfit\u001b[49m\u001b[43m(\u001b[49m\u001b[43mmodel\u001b[49m\u001b[43m,\u001b[49m\u001b[43m \u001b[49m\u001b[43mdm\u001b[49m\u001b[43m)\u001b[49m\n",
      "File \u001b[0;32m/media/diego/SSD_2/diego/Code/SteerAndInterp/venv/lib/python3.8/site-packages/pytorch_lightning/trainer/trainer.py:582\u001b[0m, in \u001b[0;36mTrainer.fit\u001b[0;34m(self, model, train_dataloaders, val_dataloaders, datamodule, ckpt_path)\u001b[0m\n\u001b[1;32m    580\u001b[0m     \u001b[38;5;28;01mraise\u001b[39;00m \u001b[38;5;167;01mTypeError\u001b[39;00m(\u001b[38;5;124mf\u001b[39m\u001b[38;5;124m\"\u001b[39m\u001b[38;5;124m`Trainer.fit()` requires a `LightningModule`, got: \u001b[39m\u001b[38;5;132;01m{\u001b[39;00mmodel\u001b[38;5;241m.\u001b[39m\u001b[38;5;18m__class__\u001b[39m\u001b[38;5;241m.\u001b[39m\u001b[38;5;18m__qualname__\u001b[39m\u001b[38;5;132;01m}\u001b[39;00m\u001b[38;5;124m\"\u001b[39m)\n\u001b[1;32m    581\u001b[0m \u001b[38;5;28mself\u001b[39m\u001b[38;5;241m.\u001b[39mstrategy\u001b[38;5;241m.\u001b[39m_lightning_module \u001b[38;5;241m=\u001b[39m model\n\u001b[0;32m--> 582\u001b[0m \u001b[43mcall\u001b[49m\u001b[38;5;241;43m.\u001b[39;49m\u001b[43m_call_and_handle_interrupt\u001b[49m\u001b[43m(\u001b[49m\n\u001b[1;32m    583\u001b[0m \u001b[43m    \u001b[49m\u001b[38;5;28;43mself\u001b[39;49m\u001b[43m,\u001b[49m\u001b[43m \u001b[49m\u001b[38;5;28;43mself\u001b[39;49m\u001b[38;5;241;43m.\u001b[39;49m\u001b[43m_fit_impl\u001b[49m\u001b[43m,\u001b[49m\u001b[43m \u001b[49m\u001b[43mmodel\u001b[49m\u001b[43m,\u001b[49m\u001b[43m \u001b[49m\u001b[43mtrain_dataloaders\u001b[49m\u001b[43m,\u001b[49m\u001b[43m \u001b[49m\u001b[43mval_dataloaders\u001b[49m\u001b[43m,\u001b[49m\u001b[43m \u001b[49m\u001b[43mdatamodule\u001b[49m\u001b[43m,\u001b[49m\u001b[43m \u001b[49m\u001b[43mckpt_path\u001b[49m\n\u001b[1;32m    584\u001b[0m \u001b[43m\u001b[49m\u001b[43m)\u001b[49m\n",
      "File \u001b[0;32m/media/diego/SSD_2/diego/Code/SteerAndInterp/venv/lib/python3.8/site-packages/pytorch_lightning/trainer/call.py:38\u001b[0m, in \u001b[0;36m_call_and_handle_interrupt\u001b[0;34m(trainer, trainer_fn, *args, **kwargs)\u001b[0m\n\u001b[1;32m     36\u001b[0m         \u001b[38;5;28;01mreturn\u001b[39;00m trainer\u001b[38;5;241m.\u001b[39mstrategy\u001b[38;5;241m.\u001b[39mlauncher\u001b[38;5;241m.\u001b[39mlaunch(trainer_fn, \u001b[38;5;241m*\u001b[39margs, trainer\u001b[38;5;241m=\u001b[39mtrainer, \u001b[38;5;241m*\u001b[39m\u001b[38;5;241m*\u001b[39mkwargs)\n\u001b[1;32m     37\u001b[0m     \u001b[38;5;28;01melse\u001b[39;00m:\n\u001b[0;32m---> 38\u001b[0m         \u001b[38;5;28;01mreturn\u001b[39;00m \u001b[43mtrainer_fn\u001b[49m\u001b[43m(\u001b[49m\u001b[38;5;241;43m*\u001b[39;49m\u001b[43margs\u001b[49m\u001b[43m,\u001b[49m\u001b[43m \u001b[49m\u001b[38;5;241;43m*\u001b[39;49m\u001b[38;5;241;43m*\u001b[39;49m\u001b[43mkwargs\u001b[49m\u001b[43m)\u001b[49m\n\u001b[1;32m     40\u001b[0m \u001b[38;5;28;01mexcept\u001b[39;00m _TunerExitException:\n\u001b[1;32m     41\u001b[0m     trainer\u001b[38;5;241m.\u001b[39m_call_teardown_hook()\n",
      "File \u001b[0;32m/media/diego/SSD_2/diego/Code/SteerAndInterp/venv/lib/python3.8/site-packages/pytorch_lightning/trainer/trainer.py:624\u001b[0m, in \u001b[0;36mTrainer._fit_impl\u001b[0;34m(self, model, train_dataloaders, val_dataloaders, datamodule, ckpt_path)\u001b[0m\n\u001b[1;32m    617\u001b[0m ckpt_path \u001b[38;5;241m=\u001b[39m ckpt_path \u001b[38;5;129;01mor\u001b[39;00m \u001b[38;5;28mself\u001b[39m\u001b[38;5;241m.\u001b[39mresume_from_checkpoint\n\u001b[1;32m    618\u001b[0m \u001b[38;5;28mself\u001b[39m\u001b[38;5;241m.\u001b[39m_ckpt_path \u001b[38;5;241m=\u001b[39m \u001b[38;5;28mself\u001b[39m\u001b[38;5;241m.\u001b[39m_checkpoint_connector\u001b[38;5;241m.\u001b[39m_set_ckpt_path(\n\u001b[1;32m    619\u001b[0m     \u001b[38;5;28mself\u001b[39m\u001b[38;5;241m.\u001b[39mstate\u001b[38;5;241m.\u001b[39mfn,\n\u001b[1;32m    620\u001b[0m     ckpt_path,  \u001b[38;5;66;03m# type: ignore[arg-type]\u001b[39;00m\n\u001b[1;32m    621\u001b[0m     model_provided\u001b[38;5;241m=\u001b[39m\u001b[38;5;28;01mTrue\u001b[39;00m,\n\u001b[1;32m    622\u001b[0m     model_connected\u001b[38;5;241m=\u001b[39m\u001b[38;5;28mself\u001b[39m\u001b[38;5;241m.\u001b[39mlightning_module \u001b[38;5;129;01mis\u001b[39;00m \u001b[38;5;129;01mnot\u001b[39;00m \u001b[38;5;28;01mNone\u001b[39;00m,\n\u001b[1;32m    623\u001b[0m )\n\u001b[0;32m--> 624\u001b[0m \u001b[38;5;28;43mself\u001b[39;49m\u001b[38;5;241;43m.\u001b[39;49m\u001b[43m_run\u001b[49m\u001b[43m(\u001b[49m\u001b[43mmodel\u001b[49m\u001b[43m,\u001b[49m\u001b[43m \u001b[49m\u001b[43mckpt_path\u001b[49m\u001b[38;5;241;43m=\u001b[39;49m\u001b[38;5;28;43mself\u001b[39;49m\u001b[38;5;241;43m.\u001b[39;49m\u001b[43mckpt_path\u001b[49m\u001b[43m)\u001b[49m\n\u001b[1;32m    626\u001b[0m \u001b[38;5;28;01massert\u001b[39;00m \u001b[38;5;28mself\u001b[39m\u001b[38;5;241m.\u001b[39mstate\u001b[38;5;241m.\u001b[39mstopped\n\u001b[1;32m    627\u001b[0m \u001b[38;5;28mself\u001b[39m\u001b[38;5;241m.\u001b[39mtraining \u001b[38;5;241m=\u001b[39m \u001b[38;5;28;01mFalse\u001b[39;00m\n",
      "File \u001b[0;32m/media/diego/SSD_2/diego/Code/SteerAndInterp/venv/lib/python3.8/site-packages/pytorch_lightning/trainer/trainer.py:987\u001b[0m, in \u001b[0;36mTrainer._run\u001b[0;34m(self, model, ckpt_path)\u001b[0m\n\u001b[1;32m    984\u001b[0m \u001b[38;5;28mself\u001b[39m\u001b[38;5;241m.\u001b[39m_callback_connector\u001b[38;5;241m.\u001b[39m_attach_model_callbacks()\n\u001b[1;32m    985\u001b[0m \u001b[38;5;28mself\u001b[39m\u001b[38;5;241m.\u001b[39m_callback_connector\u001b[38;5;241m.\u001b[39m_attach_model_logging_functions()\n\u001b[0;32m--> 987\u001b[0m \u001b[43mverify_loop_configurations\u001b[49m\u001b[43m(\u001b[49m\u001b[38;5;28;43mself\u001b[39;49m\u001b[43m)\u001b[49m\n\u001b[1;32m    989\u001b[0m \u001b[38;5;66;03m# hook\u001b[39;00m\n\u001b[1;32m    990\u001b[0m log\u001b[38;5;241m.\u001b[39mdetail(\u001b[38;5;124mf\u001b[39m\u001b[38;5;124m\"\u001b[39m\u001b[38;5;132;01m{\u001b[39;00m\u001b[38;5;28mself\u001b[39m\u001b[38;5;241m.\u001b[39m\u001b[38;5;18m__class__\u001b[39m\u001b[38;5;241m.\u001b[39m\u001b[38;5;18m__name__\u001b[39m\u001b[38;5;132;01m}\u001b[39;00m\u001b[38;5;124m: preparing data\u001b[39m\u001b[38;5;124m\"\u001b[39m)\n",
      "File \u001b[0;32m/media/diego/SSD_2/diego/Code/SteerAndInterp/venv/lib/python3.8/site-packages/pytorch_lightning/trainer/configuration_validator.py:41\u001b[0m, in \u001b[0;36mverify_loop_configurations\u001b[0;34m(trainer)\u001b[0m\n\u001b[1;32m     39\u001b[0m     \u001b[38;5;28;01mraise\u001b[39;00m \u001b[38;5;167;01mValueError\u001b[39;00m(\u001b[38;5;124m\"\u001b[39m\u001b[38;5;124mUnexpected: Trainer state fn must be set before validating loop configuration.\u001b[39m\u001b[38;5;124m\"\u001b[39m)\n\u001b[1;32m     40\u001b[0m \u001b[38;5;28;01mif\u001b[39;00m trainer\u001b[38;5;241m.\u001b[39mstate\u001b[38;5;241m.\u001b[39mfn \u001b[38;5;241m==\u001b[39m TrainerFn\u001b[38;5;241m.\u001b[39mFITTING:\n\u001b[0;32m---> 41\u001b[0m     \u001b[43m__verify_train_val_loop_configuration\u001b[49m\u001b[43m(\u001b[49m\u001b[43mtrainer\u001b[49m\u001b[43m,\u001b[49m\u001b[43m \u001b[49m\u001b[43mmodel\u001b[49m\u001b[43m)\u001b[49m\n\u001b[1;32m     42\u001b[0m     __verify_manual_optimization_support(trainer, model)\n\u001b[1;32m     43\u001b[0m     __check_training_step_requires_dataloader_iter(model)\n",
      "File \u001b[0;32m/media/diego/SSD_2/diego/Code/SteerAndInterp/venv/lib/python3.8/site-packages/pytorch_lightning/trainer/configuration_validator.py:70\u001b[0m, in \u001b[0;36m__verify_train_val_loop_configuration\u001b[0;34m(trainer, model)\u001b[0m\n\u001b[1;32m     68\u001b[0m has_training_step \u001b[38;5;241m=\u001b[39m is_overridden(\u001b[38;5;124m\"\u001b[39m\u001b[38;5;124mtraining_step\u001b[39m\u001b[38;5;124m\"\u001b[39m, model)\n\u001b[1;32m     69\u001b[0m \u001b[38;5;28;01mif\u001b[39;00m \u001b[38;5;129;01mnot\u001b[39;00m has_training_step:\n\u001b[0;32m---> 70\u001b[0m     \u001b[38;5;28;01mraise\u001b[39;00m MisconfigurationException(\n\u001b[1;32m     71\u001b[0m         \u001b[38;5;124m\"\u001b[39m\u001b[38;5;124mNo `training_step()` method defined. Lightning `Trainer` expects as minimum a\u001b[39m\u001b[38;5;124m\"\u001b[39m\n\u001b[1;32m     72\u001b[0m         \u001b[38;5;124m\"\u001b[39m\u001b[38;5;124m `training_step()`, `train_dataloader()` and `configure_optimizers()` to be defined.\u001b[39m\u001b[38;5;124m\"\u001b[39m\n\u001b[1;32m     73\u001b[0m     )\n\u001b[1;32m     75\u001b[0m \u001b[38;5;66;03m# -----------------------------------\u001b[39;00m\n\u001b[1;32m     76\u001b[0m \u001b[38;5;66;03m# verify model has optimizer\u001b[39;00m\n\u001b[1;32m     77\u001b[0m \u001b[38;5;66;03m# -----------------------------------\u001b[39;00m\n\u001b[1;32m     78\u001b[0m has_optimizers \u001b[38;5;241m=\u001b[39m is_overridden(\u001b[38;5;124m\"\u001b[39m\u001b[38;5;124mconfigure_optimizers\u001b[39m\u001b[38;5;124m\"\u001b[39m, model)\n",
      "\u001b[0;31mMisconfigurationException\u001b[0m: No `training_step()` method defined. Lightning `Trainer` expects as minimum a `training_step()`, `train_dataloader()` and `configure_optimizers()` to be defined."
     ]
    }
   ],
   "source": [
    "ndim = 2\n",
    "nfeatures = 256\n",
    "layers = [nfeatures*2] + 4*[256] + [2]\n",
    "\n",
    "device = 'cuda:0'\n",
    "\n",
    "model = RFFNet(layers, nfeatures, 10, device, lam_pde=lam_pde)\n",
    "\n",
    "max_iters = int(10e3)\n",
    "\n",
    "from pytorch_lightning.callbacks import EarlyStopping\n",
    "early_stop_callback = EarlyStopping(monitor='valid_loss')\n",
    "\n",
    "trainer = pl.Trainer(gpus=1, \n",
    "                     check_val_every_n_epoch=200, \n",
    "                     max_epochs=max_iters, \n",
    "                     callbacks=[early_stop_callback])\n",
    "\n",
    "trainer.fit(model, dm)"
   ]
  },
  {
   "cell_type": "code",
   "execution_count": null,
   "id": "e260980c",
   "metadata": {},
   "outputs": [],
   "source": []
  }
 ],
 "metadata": {
  "kernelspec": {
   "display_name": "Python 3 (ipykernel)",
   "language": "python",
   "name": "python3"
  },
  "language_info": {
   "codemirror_mode": {
    "name": "ipython",
    "version": 3
   },
   "file_extension": ".py",
   "mimetype": "text/x-python",
   "name": "python",
   "nbconvert_exporter": "python",
   "pygments_lexer": "ipython3",
   "version": "3.8.10"
  }
 },
 "nbformat": 4,
 "nbformat_minor": 5
}
