{
 "cells": [
  {
   "cell_type": "code",
   "execution_count": null,
   "metadata": {},
   "outputs": [],
   "source": [
    "from pathlib import Path\n",
    "\n",
    "import pandas as pd\n",
    "import yaml\n",
    "import json"
   ]
  },
  {
   "cell_type": "code",
   "execution_count": null,
   "metadata": {},
   "outputs": [],
   "source": [
    "path_to_exps = Path('../exp/')\n",
    "\n",
    "exp_results_list = []\n",
    "\n",
    "for path_to_exp_dir in path_to_exps.glob('*'):\n",
    "    \n",
    "    with open(path_to_exp_dir / Path('conf.yml')) as f:\n",
    "        conf = yaml.safe_load(f)\n",
    "    with open(path_to_exp_dir / Path('best_k_models.json')) as f:\n",
    "        best_models = json.load(f)\n",
    "    print(conf)\n",
    "    print(best_models)\n",
    "    \n",
    "    current_results = {\n",
    "        'Ba' : conf['model']['rff_scale_ang'],\n",
    "        'Bf' : conf['model']['rff_scale_freq'],\n",
    "    }\n",
    "    best_models_score = min([best_models_score[key] for key in best_models_score])\n",
    "    print(best_models_score)\n",
    "    "
   ]
  },
  {
   "cell_type": "code",
   "execution_count": null,
   "metadata": {},
   "outputs": [],
   "source": []
  }
 ],
 "metadata": {
  "kernelspec": {
   "display_name": "steer_env",
   "language": "python",
   "name": "python3"
  },
  "language_info": {
   "codemirror_mode": {
    "name": "ipython",
    "version": 3
   },
   "file_extension": ".py",
   "mimetype": "text/x-python",
   "name": "python",
   "nbconvert_exporter": "python",
   "pygments_lexer": "ipython3",
   "version": "3.10.8 (main, Nov  4 2022, 13:48:29) [GCC 11.2.0]"
  },
  "orig_nbformat": 4,
  "vscode": {
   "interpreter": {
    "hash": "a2a9446b14bbd5e97d0638655bc204815247c9ce734da1ea118eea6cb06ee149"
   }
  }
 },
 "nbformat": 4,
 "nbformat_minor": 2
}
