{
 "cells": [
  {
   "cell_type": "code",
   "execution_count": 37,
   "metadata": {},
   "outputs": [],
   "source": [
    "import h5py\n",
    "import numpy as np\n",
    "import scipy.io\n",
    "import matlab.engine"
   ]
  },
  {
   "cell_type": "code",
   "execution_count": 12,
   "metadata": {},
   "outputs": [],
   "source": [
    "eng = matlab.engine.start_matlab()"
   ]
  },
  {
   "cell_type": "code",
   "execution_count": 46,
   "metadata": {},
   "outputs": [],
   "source": [
    "h5_path = '../data/easycom/Easycom_N-1020_fs-48k_nrfft-1025.h5'\n",
    "\n",
    "ind_mics = [0,2]\n",
    "n_mics = len(ind_mics)\n",
    "f = h5py.File(h5_path,'r')\n",
    "fs = int(f[\"fs\"][()])\n",
    "doas = np.array(f['doas']) # (ndarray) [n_az x n_el x 2]\n",
    "airs = np.array(f['airs'])[:,:,ind_mics,:]       # (ndarray) [n_az x n_el x n_chan x n_smpl]\n",
    "atfs = np.array(f['atfs'])[...,ind_mics]         # (ndarray) [n_az x n_el x n_rfft x n_chan]\n",
    "rtfs = np.array(f['rtfs'])[...,ind_mics,ind_mics] # (ndarray) [n_az x n_el x n_rfft x n_chan x n_chan]\n",
    "mic_pos = np.array(f['mic_pos'])[:,ind_mics]     # (ndarray) [3 x n_chan]\n",
    "f.close()"
   ]
  },
  {
   "cell_type": "code",
   "execution_count": 47,
   "metadata": {},
   "outputs": [
    {
     "name": "stdout",
     "output_type": "stream",
     "text": [
      "(1020, 2)\n",
      "(60, 17, 2, 768)\n",
      "(1020, 2, 768)\n",
      "(17, 2)\n",
      "(17, 2, 768)\n",
      "(120, 2)\n"
     ]
    }
   ],
   "source": [
    "_doas = doas.reshape(-1,2)\n",
    "print(_doas.shape)\n",
    "n_obs = _doas.shape[0]\n",
    "\n",
    "\n",
    "data = airs\n",
    "n_smpl = data.shape[-1]\n",
    "print(data.shape)\n",
    "data = data.reshape(n_obs, n_mics, n_smpl)\n",
    "print(data.shape)\n",
    "\n",
    "\n",
    "azimuths = []\n",
    "hrtfs = []\n",
    "\n",
    "for n in range(n_obs):\n",
    "\n",
    "    if not _doas[n,0] == 0:\n",
    "        continue\n",
    "\n",
    "    azimuths.append(_doas[n,:])\n",
    "    hrtfs.append(data[n,:])\n",
    "\n",
    "\n",
    "azimuths = np.array(azimuths)\n",
    "hrtfData = np.stack(hrtfs, axis=0)\n",
    "print(azimuths.shape)\n",
    "print(hrtfData.shape)\n",
    "\n",
    "sourcePosition = np.rad2deg(azimuths)\n",
    "desiredPosition = np.stack(np.meshgrid(\n",
    "    np.arange(0.,360.,3),\n",
    "    np.array([0])\n",
    "), axis=-1).reshape(-1,2)\n",
    "print(desiredPosition.shape)\n",
    "\n",
    "to_save = {\n",
    "    'desiredPosition' : np.float64(desiredPosition),\n",
    "    'hrtfData' : np.float64(hrtfData),\n",
    "    'sourcePosition' : np.float64(sourcePosition),\n",
    "}\n",
    "\n",
    "scipy.io.savemat('../data/easycom.mat', to_save)\n"
   ]
  },
  {
   "cell_type": "code",
   "execution_count": 48,
   "metadata": {},
   "outputs": [
    {
     "name": "stderr",
     "output_type": "stream",
     "text": [
      "Error using interpolateHRTF\n",
      "Not enough input arguments.\n",
      "\n"
     ]
    },
    {
     "ename": "MatlabExecutionError",
     "evalue": "\n  File /usr/local/MATLAB/R2022b/toolbox/audio/audio/interpolateHRTF.m, line 70, in interpolateHRTF\nNot enough input arguments.\n",
     "output_type": "error",
     "traceback": [
      "\u001b[0;31m---------------------------------------------------------------------------\u001b[0m",
      "\u001b[0;31mMatlabExecutionError\u001b[0m                      Traceback (most recent call last)",
      "Cell \u001b[0;32mIn [48], line 1\u001b[0m\n\u001b[0;32m----> 1\u001b[0m eng\u001b[39m.\u001b[39;49minterpolateHRTF()\n",
      "File \u001b[0;32m~/anaconda3/envs/steer_env/lib/python3.10/site-packages/matlab/engine/matlabengine.py:71\u001b[0m, in \u001b[0;36mMatlabFunc.__call__\u001b[0;34m(self, *args, **kwargs)\u001b[0m\n\u001b[1;32m     68\u001b[0m     \u001b[39mreturn\u001b[39;00m FutureResult(\u001b[39mself\u001b[39m\u001b[39m.\u001b[39m_engine(), future, nargs, _stdout, _stderr, feval\u001b[39m=\u001b[39m\u001b[39mTrue\u001b[39;00m)\n\u001b[1;32m     69\u001b[0m \u001b[39melse\u001b[39;00m:\n\u001b[1;32m     70\u001b[0m     \u001b[39mreturn\u001b[39;00m FutureResult(\u001b[39mself\u001b[39;49m\u001b[39m.\u001b[39;49m_engine(), future, nargs, _stdout,\n\u001b[0;32m---> 71\u001b[0m                         _stderr, feval\u001b[39m=\u001b[39;49m\u001b[39mTrue\u001b[39;49;00m)\u001b[39m.\u001b[39;49mresult()\n",
      "File \u001b[0;32m~/anaconda3/envs/steer_env/lib/python3.10/site-packages/matlab/engine/futureresult.py:67\u001b[0m, in \u001b[0;36mFutureResult.result\u001b[0;34m(self, timeout)\u001b[0m\n\u001b[1;32m     64\u001b[0m     \u001b[39mif\u001b[39;00m timeout \u001b[39m<\u001b[39m \u001b[39m0\u001b[39m:\n\u001b[1;32m     65\u001b[0m         \u001b[39mraise\u001b[39;00m \u001b[39mTypeError\u001b[39;00m(pythonengine\u001b[39m.\u001b[39mgetMessage(\u001b[39m'\u001b[39m\u001b[39mTimeoutCannotBeNegative\u001b[39m\u001b[39m'\u001b[39m))\n\u001b[0;32m---> 67\u001b[0m \u001b[39mreturn\u001b[39;00m \u001b[39mself\u001b[39;49m\u001b[39m.\u001b[39;49m__future\u001b[39m.\u001b[39;49mresult(timeout)\n",
      "File \u001b[0;32m~/anaconda3/envs/steer_env/lib/python3.10/site-packages/matlab/engine/fevalfuture.py:82\u001b[0m, in \u001b[0;36mFevalFuture.result\u001b[0;34m(self, timeout)\u001b[0m\n\u001b[1;32m     79\u001b[0m \u001b[39mif\u001b[39;00m \u001b[39mnot\u001b[39;00m result_ready:\n\u001b[1;32m     80\u001b[0m     \u001b[39mraise\u001b[39;00m \u001b[39mTimeoutError\u001b[39;00m(pythonengine\u001b[39m.\u001b[39mgetMessage(\u001b[39m'\u001b[39m\u001b[39mMatlabFunctionTimeout\u001b[39m\u001b[39m'\u001b[39m))\n\u001b[0;32m---> 82\u001b[0m \u001b[39mself\u001b[39m\u001b[39m.\u001b[39m_result \u001b[39m=\u001b[39m pythonengine\u001b[39m.\u001b[39;49mgetFEvalResult(\u001b[39mself\u001b[39;49m\u001b[39m.\u001b[39;49m_future,\u001b[39mself\u001b[39;49m\u001b[39m.\u001b[39;49m_nargout, \u001b[39mNone\u001b[39;49;00m, out\u001b[39m=\u001b[39;49m\u001b[39mself\u001b[39;49m\u001b[39m.\u001b[39;49m_out, err\u001b[39m=\u001b[39;49m\u001b[39mself\u001b[39;49m\u001b[39m.\u001b[39;49m_err)\n\u001b[1;32m     83\u001b[0m \u001b[39mself\u001b[39m\u001b[39m.\u001b[39m_retrieved \u001b[39m=\u001b[39m \u001b[39mTrue\u001b[39;00m\n\u001b[1;32m     84\u001b[0m \u001b[39mreturn\u001b[39;00m \u001b[39mself\u001b[39m\u001b[39m.\u001b[39m_result\n",
      "\u001b[0;31mMatlabExecutionError\u001b[0m: \n  File /usr/local/MATLAB/R2022b/toolbox/audio/audio/interpolateHRTF.m, line 70, in interpolateHRTF\nNot enough input arguments.\n"
     ]
    }
   ],
   "source": []
  },
  {
   "cell_type": "code",
   "execution_count": null,
   "metadata": {},
   "outputs": [],
   "source": []
  }
 ],
 "metadata": {
  "kernelspec": {
   "display_name": "steer_env",
   "language": "python",
   "name": "python3"
  },
  "language_info": {
   "codemirror_mode": {
    "name": "ipython",
    "version": 3
   },
   "file_extension": ".py",
   "mimetype": "text/x-python",
   "name": "python",
   "nbconvert_exporter": "python",
   "pygments_lexer": "ipython3",
   "version": "3.10.8"
  },
  "orig_nbformat": 4,
  "vscode": {
   "interpreter": {
    "hash": "a2a9446b14bbd5e97d0638655bc204815247c9ce734da1ea118eea6cb06ee149"
   }
  }
 },
 "nbformat": 4,
 "nbformat_minor": 2
}
