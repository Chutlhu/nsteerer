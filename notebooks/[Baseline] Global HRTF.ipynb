{
 "cells": [
  {
   "cell_type": "code",
   "execution_count": 1,
   "metadata": {},
   "outputs": [],
   "source": [
    "import os\n",
    "import argparse\n",
    "import json\n",
    "\n",
    "import torch\n",
    "from torch.utils.data import DataLoader\n",
    "\n",
    "import numpy as np\n",
    "\n",
    "from pathlib import Path\n",
    "from src.data.easycom import EasycomDataModule, EasycomDataset"
   ]
  },
  {
   "cell_type": "code",
   "execution_count": 13,
   "metadata": {},
   "outputs": [],
   "source": [
    "conf = {\n",
    "    \"options\": {\n",
    "        \"data_h5\" : Path(\"../data/easycom/Easycom_N-1020_fs-48k_nrfft-257.h5\")\n",
    "    },\n",
    "    \"model\" : {\n",
    "        \"do_freqs_in\" : False,\n",
    "    },\n",
    "    \"data\" : {\n",
    "        \"n_mics\" : 4,\n",
    "        \"normalize_coords\" : False,\n",
    "    },\n",
    "    \"training\" : {\n",
    "        \"train_idx\" : {\n",
    "            \"az\": [0, -1, 2],\n",
    "            \"el\": [5, 15, 2]\n",
    "        }\n",
    "    }\n",
    "}"
   ]
  },
  {
   "cell_type": "code",
   "execution_count": 16,
   "metadata": {},
   "outputs": [
    {
     "name": "stdout",
     "output_type": "stream",
     "text": [
      "Dataset for train:\n",
      "Selected DOAs:\n",
      "    az: [  0.  12.  24.  36.  48.  60.  72.  84.  96. 108. 120. 132. 144. 156.\n",
      " 168. 180. 192. 204. 216. 228. 240. 252. 264. 276. 288. 300. 312. 324.\n",
      " 336. 348.]\n",
      "    el: [-36. -18.   0.  18.  36.]\n"
     ]
    }
   ],
   "source": [
    "train_set = EasycomDataset(\n",
    "        \"train\",\n",
    "        conf[\"options\"][\"data_h5\"],\n",
    "        conf['model']['do_freqs_in'],\n",
    "        conf[\"data\"][\"n_mics\"],\n",
    "        conf[\"data\"][\"normalize_coords\"],\n",
    "        conf[\"training\"][\"train_idx\"]\n",
    "    )"
   ]
  },
  {
   "cell_type": "code",
   "execution_count": 17,
   "metadata": {},
   "outputs": [
    {
     "name": "stdout",
     "output_type": "stream",
     "text": [
      "torch.Size([30, 5, 2])\n",
      "torch.Size([30, 5, 257, 4])\n"
     ]
    }
   ],
   "source": [
    "coords = train_set.varin\n",
    "target = train_set.atfs\n",
    "\n",
    "print(coords.shape)\n",
    "print(target.shape)"
   ]
  },
  {
   "cell_type": "code",
   "execution_count": 1,
   "metadata": {},
   "outputs": [],
   "source": [
    "from src.baselines.global_hrtf import HyperFiLM"
   ]
  },
  {
   "cell_type": "code",
   "execution_count": null,
   "metadata": {},
   "outputs": [],
   "source": [
    "model = HyperFiLM(\n",
    "    in_ch = 1\n",
    ")"
   ]
  }
 ],
 "metadata": {
  "kernelspec": {
   "display_name": "steer_env",
   "language": "python",
   "name": "python3"
  },
  "language_info": {
   "codemirror_mode": {
    "name": "ipython",
    "version": 3
   },
   "file_extension": ".py",
   "mimetype": "text/x-python",
   "name": "python",
   "nbconvert_exporter": "python",
   "pygments_lexer": "ipython3",
   "version": "3.10.8"
  },
  "orig_nbformat": 4,
  "vscode": {
   "interpreter": {
    "hash": "a2a9446b14bbd5e97d0638655bc204815247c9ce734da1ea118eea6cb06ee149"
   }
  }
 },
 "nbformat": 4,
 "nbformat_minor": 2
}
